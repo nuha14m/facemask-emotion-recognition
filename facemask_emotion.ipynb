{
  "nbformat": 4,
  "nbformat_minor": 0,
  "metadata": {
    "colab": {
      "name": "facemask_emotion.ipynb",
      "provenance": [],
      "collapsed_sections": []
    },
    "kernelspec": {
      "name": "python3",
      "display_name": "Python 3"
    },
    "accelerator": "GPU"
  },
  "cells": [
    {
      "cell_type": "markdown",
      "metadata": {
        "id": "jWHLAXTzGCt9",
        "colab_type": "text"
      },
      "source": [
        "**Import/Setup** "
      ]
    },
    {
      "cell_type": "code",
      "metadata": {
        "id": "Jj9XkJ4GPVK3",
        "colab_type": "code",
        "colab": {}
      },
      "source": [
        "import cv2\n",
        "import sys, os\n",
        "import pandas as pd\n",
        "import numpy as np\n",
        "import matplotlib.pyplot as plt\n",
        "from sklearn.model_selection import train_test_split\n",
        "from keras.models import Sequential\n",
        "from keras.layers import Dense, Dropout, Activation, Flatten\n",
        "from keras.layers import Conv2D, MaxPooling2D, BatchNormalization\n",
        "from keras.losses import categorical_crossentropy\n",
        "from keras.optimizers import Adam\n",
        "from keras.regularizers import l2\n",
        "from keras.callbacks import ReduceLROnPlateau, TensorBoard, EarlyStopping, ModelCheckpoint\n",
        "from keras.models import load_model\n",
        "from google.colab.patches import cv2_imshow\n",
        "from PIL import Image"
      ],
      "execution_count": null,
      "outputs": []
    },
    {
      "cell_type": "code",
      "metadata": {
        "id": "v7_NnGQyALqE",
        "colab_type": "code",
        "colab": {}
      },
      "source": [
        "MODELPATH = './models/model.h5'\n",
        "DATAPATH='fer2013.csv'"
      ],
      "execution_count": null,
      "outputs": []
    },
    {
      "cell_type": "markdown",
      "metadata": {
        "id": "1yBMZ6lNBZ-R",
        "colab_type": "text"
      },
      "source": [
        "**Data Preprocessing**\n"
      ]
    },
    {
      "cell_type": "code",
      "metadata": {
        "id": "iL4_buQ-AbWp",
        "colab_type": "code",
        "colab": {
          "base_uri": "https://localhost:8080/",
          "height": 204
        },
        "outputId": "421c00a3-f9c1-4cd0-d120-ec8914f94c2b"
      },
      "source": [
        "my_data= pd.read_csv(DATAPATH) #0=Angry, 1=Disgust, 2=Fear, 3=Happy, 4=Sad, 5=Surprise, 6=Neutral\n",
        "my_data.head()"
      ],
      "execution_count": null,
      "outputs": [
        {
          "output_type": "execute_result",
          "data": {
            "text/html": [
              "<div>\n",
              "<style scoped>\n",
              "    .dataframe tbody tr th:only-of-type {\n",
              "        vertical-align: middle;\n",
              "    }\n",
              "\n",
              "    .dataframe tbody tr th {\n",
              "        vertical-align: top;\n",
              "    }\n",
              "\n",
              "    .dataframe thead th {\n",
              "        text-align: right;\n",
              "    }\n",
              "</style>\n",
              "<table border=\"1\" class=\"dataframe\">\n",
              "  <thead>\n",
              "    <tr style=\"text-align: right;\">\n",
              "      <th></th>\n",
              "      <th>emotion</th>\n",
              "      <th>pixels</th>\n",
              "      <th>Usage</th>\n",
              "    </tr>\n",
              "  </thead>\n",
              "  <tbody>\n",
              "    <tr>\n",
              "      <th>0</th>\n",
              "      <td>0</td>\n",
              "      <td>70 80 82 72 58 58 60 63 54 58 60 48 89 115 121...</td>\n",
              "      <td>Training</td>\n",
              "    </tr>\n",
              "    <tr>\n",
              "      <th>1</th>\n",
              "      <td>0</td>\n",
              "      <td>151 150 147 155 148 133 111 140 170 174 182 15...</td>\n",
              "      <td>Training</td>\n",
              "    </tr>\n",
              "    <tr>\n",
              "      <th>2</th>\n",
              "      <td>2</td>\n",
              "      <td>231 212 156 164 174 138 161 173 182 200 106 38...</td>\n",
              "      <td>Training</td>\n",
              "    </tr>\n",
              "    <tr>\n",
              "      <th>3</th>\n",
              "      <td>4</td>\n",
              "      <td>24 32 36 30 32 23 19 20 30 41 21 22 32 34 21 1...</td>\n",
              "      <td>Training</td>\n",
              "    </tr>\n",
              "    <tr>\n",
              "      <th>4</th>\n",
              "      <td>6</td>\n",
              "      <td>4 0 0 0 0 0 0 0 0 0 0 0 3 15 23 28 48 50 58 84...</td>\n",
              "      <td>Training</td>\n",
              "    </tr>\n",
              "  </tbody>\n",
              "</table>\n",
              "</div>"
            ],
            "text/plain": [
              "   emotion                                             pixels     Usage\n",
              "0        0  70 80 82 72 58 58 60 63 54 58 60 48 89 115 121...  Training\n",
              "1        0  151 150 147 155 148 133 111 140 170 174 182 15...  Training\n",
              "2        2  231 212 156 164 174 138 161 173 182 200 106 38...  Training\n",
              "3        4  24 32 36 30 32 23 19 20 30 41 21 22 32 34 21 1...  Training\n",
              "4        6  4 0 0 0 0 0 0 0 0 0 0 0 3 15 23 28 48 50 58 84...  Training"
            ]
          },
          "metadata": {
            "tags": []
          },
          "execution_count": 23
        }
      ]
    },
    {
      "cell_type": "code",
      "metadata": {
        "id": "0L6mlzwPBsxP",
        "colab_type": "code",
        "colab": {}
      },
      "source": [
        "num_features = 64\n",
        "num_labels = 7\n",
        "batch_size = 64\n",
        "epochs = 100\n",
        "width, height = 25, 48"
      ],
      "execution_count": null,
      "outputs": []
    },
    {
      "cell_type": "code",
      "metadata": {
        "id": "T5LjA6i8HZDN",
        "colab_type": "code",
        "colab": {
          "base_uri": "https://localhost:8080/",
          "height": 284
        },
        "outputId": "400aa2a0-2b86-4b39-955f-4dc3d6172a20"
      },
      "source": [
        "imagebuffer = np.array(my_data['pixels'])\n",
        "images = np.array([np.fromstring(image,np.uint8,sep=' ') for image in imagebuffer])\n",
        "num_shape = int(np.sqrt(images.shape[-1]))\n",
        "images.shape = (images.shape[13],num_shape,num_shape)\n",
        "plt.imshow(images[13])"
      ],
      "execution_count": null,
      "outputs": [
        {
          "output_type": "execute_result",
          "data": {
            "text/plain": [
              "<matplotlib.image.AxesImage at 0x7f6726425438>"
            ]
          },
          "metadata": {
            "tags": []
          },
          "execution_count": 45
        },
        {
          "output_type": "display_data",
          "data": {
            "image/png": "[encoded data removed]",
            "text/plain": [
              "<Figure size 432x288 with 1 Axes>"
            ]
          },
          "metadata": {
            "tags": [],
            "needs_background": "light"
          }
        }
      ]
    },
    {
      "cell_type": "code",
      "metadata": {
        "id": "MZ3bR5AZcdwX",
        "colab_type": "code",
        "colab": {}
      },
      "source": [
        "import face_recognition\n",
        "def show_landmarks(img):\n",
        "  face_landmarks = face_recognition.face_landmarks(img)\n",
        "  xs = []\n",
        "  ys = []\n",
        "  for landmark in face_landmarks:\n",
        "      for k, v in landmark.items():\n",
        "        xs += [x[0] for x in v]\n",
        "        ys += [x[1] for x in v]\n",
        "  fig, ax = plt.subplots()\n",
        "  fig.set_size_inches(5, 5)\n",
        "  ax.imshow(img)\n",
        "  ax.scatter(x=xs, y=ys, c='red', s=10)"
      ],
      "execution_count": null,
      "outputs": []
    },
    {
      "cell_type": "code",
      "metadata": {
        "id": "K-X8BxJrdPJH",
        "colab_type": "code",
        "colab": {
          "base_uri": "https://localhost:8080/",
          "height": 321
        },
        "outputId": "2aa976a3-0b5d-4f97-ffc8-30ffcc214732"
      },
      "source": [
        "show_landmarks(images[13])"
      ],
      "execution_count": null,
      "outputs": [
        {
          "output_type": "display_data",
          "data": {
            "image/png": "[encoded data removed]",
            "text/plain": [
              "<Figure size 360x360 with 1 Axes>"
            ]
          },
          "metadata": {
            "tags": [],
            "needs_background": "light"
          }
        }
      ]
    },
    {
      "cell_type": "code",
      "metadata": {
        "id": "2pDiJ46Uj_IV",
        "colab_type": "code",
        "colab": {}
      },
      "source": [
        "import math \n",
        "def getCropIndex(pointA, pointB):\n",
        "  return ( (pointA[0]+pointB[0])/2 ,(pointA[1]+pointB[1])/2 )\n",
        "from scipy import interpolate"
      ],
      "execution_count": null,
      "outputs": []
    },
    {
      "cell_type": "code",
      "metadata": {
        "id": "dyawid7Tiyu_",
        "colab_type": "code",
        "colab": {
          "base_uri": "https://localhost:8080/",
          "height": 240
        },
        "outputId": "fe5c6ba0-e374-45f0-fb90-d30125427d27"
      },
      "source": [
        "img=images[13]\n",
        "img_crop = img.copy()\n",
        "img_crop.resize((25,48))\n",
        "plt.imshow(img_crop) "
      ],
      "execution_count": null,
      "outputs": [
        {
          "output_type": "execute_result",
          "data": {
            "text/plain": [
              "<matplotlib.image.AxesImage at 0x7f67266b6eb8>"
            ]
          },
          "metadata": {
            "tags": []
          },
          "execution_count": 46
        },
        {
          "output_type": "display_data",
          "data": {
            "image/png": "[encoded data removed]",
            "text/plain": [
              "<Figure size 432x288 with 1 Axes>"
            ]
          },
          "metadata": {
            "tags": [],
            "needs_background": "light"
          }
        }
      ]
    },
    {
      "cell_type": "code",
      "metadata": {
        "id": "pEVxDzTHx4IV",
        "colab_type": "code",
        "colab": {}
      },
      "source": [
        "def calculateNoseLandmark():\n",
        "  landmark_images=[]\n",
        "  i=0\n",
        "  for img in images:\n",
        "    lm= face_recognition.face_landmarks(img)\n",
        "    if(len(lm)>0):\n",
        "      nb= lm[0]['nose_bridge']\n",
        "      crop_index = getCropIndex(nb[0], nb[3])\n",
        "      if( (crop_index[1]<=25) and (crop_index[1]>=21) ):\n",
        "        landmark_images.append([img, crop_index, i])\n",
        "    i+=1\n",
        "  return landmark_images"
      ],
      "execution_count": null,
      "outputs": []
    },
    {
      "cell_type": "code",
      "metadata": {
        "id": "RUqSGU7FgwUU",
        "colab_type": "code",
        "colab": {}
      },
      "source": [
        "def cropImages(landmark_images):\n",
        "  images_cropped=[]\n",
        "  for face in landmark_images:\n",
        "    cface = face[0].copy()\n",
        "    cface.resize((25,48))\n",
        "    images_cropped.append(cface)\n",
        "  return images_cropped"
      ],
      "execution_count": null,
      "outputs": []
    },
    {
      "cell_type": "code",
      "metadata": {
        "id": "-7VTeQ0Ff8w4",
        "colab_type": "code",
        "colab": {
          "base_uri": "https://localhost:8080/",
          "height": 51
        },
        "outputId": "d6ab73fe-35da-4765-c9dd-deb2577bea16"
      },
      "source": [
        "landmark_images = calculateNoseLandmark()\n",
        "cropped_images = cropImages(landmark_images)\n",
        "print(len(images))\n",
        "print(len(landmark_images)) #number of images which have decipherable facial landmarks and fall within threshold"
      ],
      "execution_count": null,
      "outputs": [
        {
          "output_type": "stream",
          "text": [
            "35887\n",
            "17769\n"
          ],
          "name": "stdout"
        }
      ]
    },
    {
      "cell_type": "code",
      "metadata": {
        "id": "NJCETnD3wIAx",
        "colab_type": "code",
        "colab": {}
      },
      "source": [
        "def load_cropped_randomtest():\n",
        "  faces = []\n",
        "  indices = [my_data['emotion'][li[2]] for li in landmark_images]\n",
        "  emotions = pd.get_dummies(indices)#one hot encoding \n",
        "  for face in cropped_images:\n",
        "    face = face / 255.0\n",
        "    face = cv2.resize(face.astype('float32'), (25, 48))\n",
        "    faces.append(face.astype('float32'))\n",
        "  faces = np.asarray(faces)\n",
        "  faces = np.expand_dims(faces, -1) \n",
        "  data, test_data, labels, test_labels = train_test_split(faces, emotions, test_size=0.1, random_state=42)\n",
        "  return np.array(data), np.array(labels), np.array(test_data), np.array(test_labels)"
      ],
      "execution_count": null,
      "outputs": []
    },
    {
      "cell_type": "code",
      "metadata": {
        "id": "41cSU7vxQ-TA",
        "colab_type": "code",
        "colab": {}
      },
      "source": [
        "def load_data_randomtest(dataset_path):\n",
        "  faces = []\n",
        "  pixels = my_data['pixels'].tolist()\n",
        "  emotions = pd.get_dummies(my_data['emotion'])#one hot encoding \n",
        "  for pixel_sequence in pixels:\n",
        "    face = [int(pixel) for pixel in pixel_sequence.split(' ')] \n",
        "    face = np.asarray(face).reshape(width, height) \n",
        "    face = face / 255.0\n",
        "    face = cv2.resize(face.astype('float32'), (width, height))\n",
        "    faces.append(face.astype('float32'))\n",
        "  faces = np.asarray(faces)\n",
        "  faces = np.expand_dims(faces, -1) \n",
        "  data, test_data, labels, test_labels = train_test_split(faces, emotions, test_size=0.1, random_state=42)\n",
        "  return data, labels, test_data, test_labels"
      ],
      "execution_count": null,
      "outputs": []
    },
    {
      "cell_type": "code",
      "metadata": {
        "id": "YWob8BpGvjc2",
        "colab_type": "code",
        "colab": {}
      },
      "source": [
        "def load_data_privatetest(dataset_path):\n",
        "  data = [] \n",
        "  test_data = []\n",
        "  test_labels = []\n",
        "  labels =[]\n",
        "  with open(dataset_path, 'r') as file:      \n",
        "    for line_no, line in enumerate(file.readlines()):          \n",
        "      if 0 < line_no <= 35887: \n",
        "        curr_class, line, set_type = line.split(',')\n",
        "        image_data = np.asarray([int(x) for x in line.split()]).reshape(48, 48)            \n",
        "        image_data =image_data.astype(np.uint8)/255.0                        \n",
        "        if (set_type.strip() == 'PrivateTest'):                            \n",
        "          test_data.append(image_data)              \n",
        "          test_labels.append(curr_class)           \n",
        "        else:              \n",
        "          data.append(image_data)              \n",
        "          labels.append(curr_class)            \n",
        "  test_data = np.expand_dims(test_data, -1)      \n",
        "  test_labels = pd.get_dummies(test_labels)      \n",
        "  data = np.expand_dims(data, -1)         \n",
        "  labels = pd.get_dummies(labels)          \n",
        "  return np.array(data), np.array(labels), np.array(test_data), np.array(test_labels)"
      ],
      "execution_count": null,
      "outputs": []
    },
    {
      "cell_type": "code",
      "metadata": {
        "id": "stfbCyCdGP4z",
        "colab_type": "code",
        "colab": {}
      },
      "source": [
        "X_train, y_train, X_test, y_test =  load_cropped_randomtest()"
      ],
      "execution_count": null,
      "outputs": []
    },
    {
      "cell_type": "markdown",
      "metadata": {
        "id": "aC0LU3z2F_gL",
        "colab_type": "text"
      },
      "source": [
        "**Building the Model**"
      ]
    },
    {
      "cell_type": "code",
      "metadata": {
        "id": "8wdZGJGvFakf",
        "colab_type": "code",
        "colab": {
          "base_uri": "https://localhost:8080/",
          "height": 1000
        },
        "outputId": "312f9a3c-d502-4fd9-f9a2-d260025235b3"
      },
      "source": [
        "model = Sequential()\n",
        "\n",
        "model.add(Conv2D(num_features, kernel_size=(3, 3), activation='relu', input_shape=(48, 25, 1), data_format='channels_last', kernel_regularizer=l2(0.01)))\n",
        "model.add(Conv2D(num_features, kernel_size=(3, 3), activation='relu', padding='same'))\n",
        "model.add(BatchNormalization())\n",
        "model.add(MaxPooling2D(pool_size=(2, 2), strides=(2, 2)))\n",
        "model.add(Dropout(0.5))\n",
        "\n",
        "model.add(Conv2D(2*num_features, kernel_size=(3, 3), activation='relu', padding='same'))\n",
        "model.add(BatchNormalization())\n",
        "model.add(Conv2D(2*num_features, kernel_size=(3, 3), activation='relu', padding='same'))\n",
        "model.add(BatchNormalization())\n",
        "model.add(MaxPooling2D(pool_size=(2, 2), strides=(2, 2)))\n",
        "model.add(Dropout(0.5))\n",
        "\n",
        "model.add(Conv2D(2*2*num_features, kernel_size=(3, 3), activation='relu', padding='same'))\n",
        "model.add(BatchNormalization())\n",
        "model.add(Conv2D(2*2*num_features, kernel_size=(3, 3), activation='relu', padding='same'))\n",
        "model.add(BatchNormalization())\n",
        "model.add(MaxPooling2D(pool_size=(2, 2), strides=(2, 2)))\n",
        "model.add(Dropout(0.5))\n",
        "\n",
        "model.add(Conv2D(2*2*2*num_features, kernel_size=(3, 3), activation='relu', padding='same'))\n",
        "model.add(BatchNormalization())\n",
        "model.add(Conv2D(2*2*2*num_features, kernel_size=(3, 3), activation='relu', padding='same'))\n",
        "model.add(BatchNormalization())\n",
        "model.add(MaxPooling2D(pool_size=(2, 2), strides=(2, 2)))\n",
        "model.add(Dropout(0.5))\n",
        "\n",
        "model.add(Flatten())\n",
        "\n",
        "model.add(Dense(2*2*2*num_features, activation='relu'))\n",
        "model.add(Dropout(0.4))\n",
        "model.add(Dense(2*2*num_features, activation='relu'))\n",
        "model.add(Dropout(0.4))\n",
        "model.add(Dense(2*num_features, activation='relu'))\n",
        "model.add(Dropout(0.5))\n",
        "\n",
        "model.add(Dense(num_labels, activation='softmax'))\n",
        "model.summary()"
      ],
      "execution_count": null,
      "outputs": [
        {
          "output_type": "stream",
          "text": [
            "Model: \"sequential_3\"\n",
            "_________________________________________________________________\n",
            "Layer (type)                 Output Shape              Param #   \n",
            "=================================================================\n",
            "conv2d_15 (Conv2D)           (None, 46, 23, 64)        640       \n",
            "_________________________________________________________________\n",
            "conv2d_16 (Conv2D)           (None, 46, 23, 64)        36928     \n",
            "_________________________________________________________________\n",
            "batch_normalization_13 (Batc (None, 46, 23, 64)        256       \n",
            "_________________________________________________________________\n",
            "max_pooling2d_8 (MaxPooling2 (None, 23, 11, 64)        0         \n",
            "_________________________________________________________________\n",
            "dropout_14 (Dropout)         (None, 23, 11, 64)        0         \n",
            "_________________________________________________________________\n",
            "conv2d_17 (Conv2D)           (None, 23, 11, 128)       73856     \n",
            "_________________________________________________________________\n",
            "batch_normalization_14 (Batc (None, 23, 11, 128)       512       \n",
            "_________________________________________________________________\n",
            "conv2d_18 (Conv2D)           (None, 23, 11, 128)       147584    \n",
            "_________________________________________________________________\n",
            "batch_normalization_15 (Batc (None, 23, 11, 128)       512       \n",
            "_________________________________________________________________\n",
            "max_pooling2d_9 (MaxPooling2 (None, 11, 5, 128)        0         \n",
            "_________________________________________________________________\n",
            "dropout_15 (Dropout)         (None, 11, 5, 128)        0         \n",
            "_________________________________________________________________\n",
            "conv2d_19 (Conv2D)           (None, 11, 5, 256)        295168    \n",
            "_________________________________________________________________\n",
            "batch_normalization_16 (Batc (None, 11, 5, 256)        1024      \n",
            "_________________________________________________________________\n",
            "conv2d_20 (Conv2D)           (None, 11, 5, 256)        590080    \n",
            "_________________________________________________________________\n",
            "batch_normalization_17 (Batc (None, 11, 5, 256)        1024      \n",
            "_________________________________________________________________\n",
            "max_pooling2d_10 (MaxPooling (None, 5, 2, 256)         0         \n",
            "_________________________________________________________________\n",
            "dropout_16 (Dropout)         (None, 5, 2, 256)         0         \n",
            "_________________________________________________________________\n",
            "flatten_3 (Flatten)          (None, 2560)              0         \n",
            "_________________________________________________________________\n",
            "dense_9 (Dense)              (None, 512)               1311232   \n",
            "_________________________________________________________________\n",
            "dropout_17 (Dropout)         (None, 512)               0         \n",
            "_________________________________________________________________\n",
            "dense_10 (Dense)             (None, 256)               131328    \n",
            "_________________________________________________________________\n",
            "dropout_18 (Dropout)         (None, 256)               0         \n",
            "_________________________________________________________________\n",
            "dense_11 (Dense)             (None, 128)               32896     \n",
            "_________________________________________________________________\n",
            "dropout_19 (Dropout)         (None, 128)               0         \n",
            "_________________________________________________________________\n",
            "dense_12 (Dense)             (None, 7)                 903       \n",
            "=================================================================\n",
            "Total params: 2,623,943\n",
            "Trainable params: 2,622,279\n",
            "Non-trainable params: 1,664\n",
            "_________________________________________________________________\n"
          ],
          "name": "stdout"
        }
      ]
    },
    {
      "cell_type": "code",
      "metadata": {
        "id": "n1pvbTmMFdxj",
        "colab_type": "code",
        "colab": {}
      },
      "source": [
        "model.compile(loss=categorical_crossentropy,\n",
        "              optimizer=Adam(lr=0.001, beta_1=0.9, beta_2=0.999, epsilon=1e-7),\n",
        "              metrics=['accuracy'])"
      ],
      "execution_count": null,
      "outputs": []
    },
    {
      "cell_type": "code",
      "metadata": {
        "id": "668YeleeFutl",
        "colab_type": "code",
        "colab": {}
      },
      "source": [
        "lr_reducer = ReduceLROnPlateau(monitor='val_loss', factor=0.5, patience=7, verbose=1)\n",
        "tensorboard = TensorBoard(log_dir='./logs')\n",
        "early_stopper = EarlyStopping(monitor='val_loss', min_delta=0, patience=15, verbose=1, mode='auto')\n",
        "checkpointer = ModelCheckpoint(MODELPATH, monitor='val_loss', verbose=1, save_best_only=True)"
      ],
      "execution_count": null,
      "outputs": []
    },
    {
      "cell_type": "markdown",
      "metadata": {
        "id": "6uO0BtiaGM17",
        "colab_type": "text"
      },
      "source": [
        "**Training**"
      ]
    },
    {
      "cell_type": "code",
      "metadata": {
        "id": "LzJH9AtknhQR",
        "colab_type": "code",
        "colab": {
          "base_uri": "https://localhost:8080/",
          "height": 1000
        },
        "outputId": "37be2593-313f-4a84-cfa3-7ad437766339"
      },
      "source": [
        "model.fit(np.array(X_train), np.array(y_train),\n",
        "          batch_size=batch_size,\n",
        "          epochs=epochs,\n",
        "          verbose=1,\n",
        "          validation_data=(np.array(X_test), np.array(y_test)),\n",
        "          shuffle=True,\n",
        "          callbacks=[lr_reducer, tensorboard, early_stopper, checkpointer])"
      ],
      "execution_count": null,
      "outputs": [
        {
          "output_type": "stream",
          "text": [
            "Train on 15992 samples, validate on 1777 samples\n",
            "Epoch 1/100\n",
            "15992/15992 [==============================] - 6s 357us/step - loss: 0.6219 - accuracy: 0.7816 - val_loss: 1.4265 - val_accuracy: 0.5656\n",
            "\n",
            "Epoch 00001: val_loss improved from inf to 1.42645, saving model to ./models/model_cropped.h5\n",
            "Epoch 2/100\n",
            "15992/15992 [==============================] - 6s 349us/step - loss: 0.6108 - accuracy: 0.7919 - val_loss: 1.5279 - val_accuracy: 0.5492\n",
            "\n",
            "Epoch 00002: val_loss did not improve from 1.42645\n",
            "Epoch 3/100\n",
            "15992/15992 [==============================] - 6s 350us/step - loss: 0.6118 - accuracy: 0.7894 - val_loss: 1.5196 - val_accuracy: 0.5504\n",
            "\n",
            "Epoch 00003: val_loss did not improve from 1.42645\n",
            "Epoch 4/100\n",
            "15992/15992 [==============================] - 6s 347us/step - loss: 0.6119 - accuracy: 0.7895 - val_loss: 1.4030 - val_accuracy: 0.5599\n",
            "\n",
            "Epoch 00004: val_loss improved from 1.42645 to 1.40304, saving model to ./models/model_cropped.h5\n",
            "Epoch 5/100\n",
            "15992/15992 [==============================] - 6s 350us/step - loss: 0.5859 - accuracy: 0.8022 - val_loss: 1.4550 - val_accuracy: 0.5684\n",
            "\n",
            "Epoch 00005: val_loss did not improve from 1.40304\n",
            "Epoch 6/100\n",
            "15992/15992 [==============================] - 6s 350us/step - loss: 0.5899 - accuracy: 0.7951 - val_loss: 1.4710 - val_accuracy: 0.5611\n",
            "\n",
            "Epoch 00006: val_loss did not improve from 1.40304\n",
            "Epoch 7/100\n",
            "15992/15992 [==============================] - 6s 349us/step - loss: 0.5881 - accuracy: 0.7985 - val_loss: 1.3977 - val_accuracy: 0.5605\n",
            "\n",
            "Epoch 00007: val_loss improved from 1.40304 to 1.39774, saving model to ./models/model_cropped.h5\n",
            "Epoch 8/100\n",
            "15992/15992 [==============================] - 6s 348us/step - loss: 0.5664 - accuracy: 0.8067 - val_loss: 1.4099 - val_accuracy: 0.5543\n",
            "\n",
            "Epoch 00008: val_loss did not improve from 1.39774\n",
            "Epoch 9/100\n",
            "15992/15992 [==============================] - 6s 350us/step - loss: 0.5703 - accuracy: 0.8077 - val_loss: 1.4559 - val_accuracy: 0.5577\n",
            "\n",
            "Epoch 00009: val_loss did not improve from 1.39774\n",
            "Epoch 10/100\n",
            "15992/15992 [==============================] - 6s 349us/step - loss: 0.5648 - accuracy: 0.8043 - val_loss: 1.4338 - val_accuracy: 0.5678\n",
            "\n",
            "Epoch 00010: val_loss did not improve from 1.39774\n",
            "Epoch 11/100\n",
            "15992/15992 [==============================] - 6s 344us/step - loss: 0.5596 - accuracy: 0.8058 - val_loss: 1.4542 - val_accuracy: 0.5588\n",
            "\n",
            "Epoch 00011: val_loss did not improve from 1.39774\n",
            "Epoch 12/100\n",
            "15992/15992 [==============================] - 6s 346us/step - loss: 0.5478 - accuracy: 0.8130 - val_loss: 1.4223 - val_accuracy: 0.5566\n",
            "\n",
            "Epoch 00012: val_loss did not improve from 1.39774\n",
            "Epoch 13/100\n",
            "15992/15992 [==============================] - 6s 345us/step - loss: 0.5351 - accuracy: 0.8182 - val_loss: 1.4506 - val_accuracy: 0.5611\n",
            "\n",
            "Epoch 00013: val_loss did not improve from 1.39774\n",
            "Epoch 14/100\n",
            "15992/15992 [==============================] - 6s 346us/step - loss: 0.5322 - accuracy: 0.8204 - val_loss: 1.4905 - val_accuracy: 0.5661\n",
            "\n",
            "Epoch 00014: ReduceLROnPlateau reducing learning rate to 0.00023914847406558692.\n",
            "\n",
            "Epoch 00014: val_loss did not improve from 1.39774\n",
            "Epoch 15/100\n",
            "15992/15992 [==============================] - 6s 346us/step - loss: 0.4988 - accuracy: 0.8257 - val_loss: 1.5086 - val_accuracy: 0.5718\n",
            "\n",
            "Epoch 00015: val_loss did not improve from 1.39774\n",
            "Epoch 16/100\n",
            "15992/15992 [==============================] - 6s 346us/step - loss: 0.4859 - accuracy: 0.8366 - val_loss: 1.4739 - val_accuracy: 0.5611\n",
            "\n",
            "Epoch 00016: val_loss did not improve from 1.39774\n",
            "Epoch 17/100\n",
            "15992/15992 [==============================] - 6s 348us/step - loss: 0.4897 - accuracy: 0.8302 - val_loss: 1.4755 - val_accuracy: 0.5734\n",
            "\n",
            "Epoch 00017: val_loss did not improve from 1.39774\n",
            "Epoch 18/100\n",
            "15992/15992 [==============================] - 6s 350us/step - loss: 0.4802 - accuracy: 0.8348 - val_loss: 1.4971 - val_accuracy: 0.5701\n",
            "\n",
            "Epoch 00018: val_loss did not improve from 1.39774\n",
            "Epoch 19/100\n",
            "15992/15992 [==============================] - 6s 354us/step - loss: 0.4901 - accuracy: 0.8327 - val_loss: 1.4989 - val_accuracy: 0.5661\n",
            "\n",
            "Epoch 00019: val_loss did not improve from 1.39774\n",
            "Epoch 20/100\n",
            "15992/15992 [==============================] - 6s 347us/step - loss: 0.4788 - accuracy: 0.8373 - val_loss: 1.4810 - val_accuracy: 0.5678\n",
            "\n",
            "Epoch 00020: val_loss did not improve from 1.39774\n",
            "Epoch 21/100\n",
            "15992/15992 [==============================] - 6s 346us/step - loss: 0.4599 - accuracy: 0.8464 - val_loss: 1.4753 - val_accuracy: 0.5661\n",
            "\n",
            "Epoch 00021: ReduceLROnPlateau reducing learning rate to 0.00011957423703279346.\n",
            "\n",
            "Epoch 00021: val_loss did not improve from 1.39774\n",
            "Epoch 22/100\n",
            "15992/15992 [==============================] - 6s 346us/step - loss: 0.4496 - accuracy: 0.8460 - val_loss: 1.5142 - val_accuracy: 0.5734\n",
            "\n",
            "Epoch 00022: val_loss did not improve from 1.39774\n",
            "Epoch 00022: early stopping\n"
          ],
          "name": "stdout"
        },
        {
          "output_type": "execute_result",
          "data": {
            "text/plain": [
              "<keras.callbacks.callbacks.History at 0x7f662597a908>"
            ]
          },
          "metadata": {
            "tags": []
          },
          "execution_count": 66
        }
      ]
    },
    {
      "cell_type": "code",
      "metadata": {
        "id": "QYgU9twgnksk",
        "colab_type": "code",
        "colab": {
          "base_uri": "https://localhost:8080/",
          "height": 68
        },
        "outputId": "b3a3bea1-7194-479d-a314-9fedc3a3f160"
      },
      "source": [
        "scores = model.evaluate(np.array(X_test), np.array(y_test), batch_size=batch_size)\n",
        "print(\"Loss: \" + str(scores[0]))\n",
        "print(\"Accuracy: \" + str(scores[1]))"
      ],
      "execution_count": null,
      "outputs": [
        {
          "output_type": "stream",
          "text": [
            "1777/1777 [==============================] - 0s 114us/step\n",
            "Loss: 1.5142168141377395\n",
            "Accuracy: 0.5734384059906006\n"
          ],
          "name": "stdout"
        }
      ]
    },
    {
      "cell_type": "code",
      "metadata": {
        "id": "uuecbWfdE_nf",
        "colab_type": "code",
        "colab": {}
      },
      "source": [
        "model.save_weights(\"model_weights.h5\")"
      ],
      "execution_count": null,
      "outputs": []
    },
    {
      "cell_type": "markdown",
      "metadata": {
        "id": "fjATEFOLPjCD",
        "colab_type": "text"
      },
      "source": [
        "**Predicting with Pre-trained Model**"
      ]
    },
    {
      "cell_type": "code",
      "metadata": {
        "id": "hotkN-IsPeUT",
        "colab_type": "code",
        "colab": {}
      },
      "source": [
        "from __future__ import division\n",
        "from keras.models import Sequential\n",
        "from keras.layers import Dense\n",
        "from keras.models import model_from_json\n",
        "import numpy\n",
        "import os\n",
        "import numpy as np\n",
        "\n",
        "json_file = open('model.json', 'r')\n",
        "loaded_model_json = json_file.read()\n",
        "json_file.close()\n",
        "loaded_model = model_from_json(loaded_model_json)\n",
        "loaded_model.load_weights(\"model_weights.h5\")\n",
        "print(\"Loaded model from disk\")"
      ],
      "execution_count": null,
      "outputs": []
    },
    {
      "cell_type": "code",
      "metadata": {
        "id": "Mm9GgOLCmKlB",
        "colab_type": "code",
        "colab": {}
      },
      "source": [
        "truey=[]\n",
        "predy=[]\n",
        "x = np.load('./X_test.npy')\n",
        "y = np.load('./y_test.npy')\n",
        "\n",
        "y_prime= loaded_model.predict(x)\n",
        "yp = y_prime.tolist()\n",
        "yt = y.tolist()\n",
        "count = 0\n",
        "\n",
        "for i in range(len(y)):\n",
        "    yy = max(yp[i])\n",
        "    yyt = max(yt[i])\n",
        "    predy.append(yp[i].index(yy))\n",
        "    truey.append(yt[i].index(yyt))\n",
        "    if(yp[i].index(yy)== yt[i].index(yyt)):\n",
        "        count+=1\n",
        "\n",
        "acc = (count/len(y))*100\n",
        "\n",
        "np.save('truey', truey)\n",
        "np.save('predy', predy)\n",
        "print(\"Predictions saved\")\n",
        "print(\"Accuracy on test set :\"+str(acc)+\"%\")"
      ],
      "execution_count": null,
      "outputs": []
    }
  ]
}