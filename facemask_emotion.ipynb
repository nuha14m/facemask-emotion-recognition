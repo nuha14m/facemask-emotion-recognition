{
  "nbformat": 4,
  "nbformat_minor": 0,
  "metadata": {
    "colab": {
      "name": "facemask_emotion.ipynb",
      "provenance": []
    },
    "kernelspec": {
      "name": "python3",
      "display_name": "Python 3"
    },
    "accelerator": "GPU"
  },
  "cells": [
    {
      "cell_type": "markdown",
      "metadata": {
        "id": "jWHLAXTzGCt9",
        "colab_type": "text"
      },
      "source": [
        "**Import/Setup** "
      ]
    },
    {
      "cell_type": "code",
      "metadata": {
        "id": "Jj9XkJ4GPVK3",
        "colab_type": "code",
        "colab": {
          "base_uri": "https://localhost:8080/",
          "height": 34
        },
        "outputId": "bcd4d2d7-c246-43a6-bbac-a409ef0a1778"
      },
      "source": [
        "import sys, os\n",
        "import pandas as pd\n",
        "import numpy as np\n",
        "import cv2\n",
        "from sklearn.model_selection import train_test_split\n",
        "from keras.models import Sequential\n",
        "from keras.layers import Dense, Dropout, Activation, Flatten\n",
        "from keras.layers import Conv2D, MaxPooling2D, BatchNormalization\n",
        "from keras.losses import categorical_crossentropy\n",
        "from keras.optimizers import Adam\n",
        "from keras.regularizers import l2\n",
        "from keras.callbacks import ReduceLROnPlateau, TensorBoard, EarlyStopping, ModelCheckpoint\n",
        "from keras.models import load_model"
      ],
      "execution_count": 3,
      "outputs": [
        {
          "output_type": "stream",
          "text": [
            "Using TensorFlow backend.\n"
          ],
          "name": "stderr"
        }
      ]
    },
    {
      "cell_type": "code",
      "metadata": {
        "id": "WORlgZi2_b4H",
        "colab_type": "code",
        "colab": {}
      },
      "source": [
        "from google.colab import drive\n",
        "drive.mount('/content/drive')"
      ],
      "execution_count": null,
      "outputs": []
    },
    {
      "cell_type": "code",
      "metadata": {
        "id": "v7_NnGQyALqE",
        "colab_type": "code",
        "colab": {}
      },
      "source": [
        "BASEPATH = '/content/drive/My Drive'\n",
        "sys.path.insert(0, BASEPATH)\n",
        "os.chdir(BASEPATH)\n",
        "MODELPATH = './models/model.h5'"
      ],
      "execution_count": 7,
      "outputs": []
    },
    {
      "cell_type": "code",
      "metadata": {
        "id": "iL4_buQ-AbWp",
        "colab_type": "code",
        "colab": {
          "base_uri": "https://localhost:8080/",
          "height": 204
        },
        "outputId": "f23d4755-d3a0-4290-ad42-5cef95888d91"
      },
      "source": [
        "my_data= pd.read_csv('fer2013.csv')\n",
        "my_data.head()"
      ],
      "execution_count": 8,
      "outputs": [
        {
          "output_type": "execute_result",
          "data": {
            "text/html": [
              "<div>\n",
              "<style scoped>\n",
              "    .dataframe tbody tr th:only-of-type {\n",
              "        vertical-align: middle;\n",
              "    }\n",
              "\n",
              "    .dataframe tbody tr th {\n",
              "        vertical-align: top;\n",
              "    }\n",
              "\n",
              "    .dataframe thead th {\n",
              "        text-align: right;\n",
              "    }\n",
              "</style>\n",
              "<table border=\"1\" class=\"dataframe\">\n",
              "  <thead>\n",
              "    <tr style=\"text-align: right;\">\n",
              "      <th></th>\n",
              "      <th>emotion</th>\n",
              "      <th>pixels</th>\n",
              "      <th>Usage</th>\n",
              "    </tr>\n",
              "  </thead>\n",
              "  <tbody>\n",
              "    <tr>\n",
              "      <th>0</th>\n",
              "      <td>0</td>\n",
              "      <td>70 80 82 72 58 58 60 63 54 58 60 48 89 115 121...</td>\n",
              "      <td>Training</td>\n",
              "    </tr>\n",
              "    <tr>\n",
              "      <th>1</th>\n",
              "      <td>0</td>\n",
              "      <td>151 150 147 155 148 133 111 140 170 174 182 15...</td>\n",
              "      <td>Training</td>\n",
              "    </tr>\n",
              "    <tr>\n",
              "      <th>2</th>\n",
              "      <td>2</td>\n",
              "      <td>231 212 156 164 174 138 161 173 182 200 106 38...</td>\n",
              "      <td>Training</td>\n",
              "    </tr>\n",
              "    <tr>\n",
              "      <th>3</th>\n",
              "      <td>4</td>\n",
              "      <td>24 32 36 30 32 23 19 20 30 41 21 22 32 34 21 1...</td>\n",
              "      <td>Training</td>\n",
              "    </tr>\n",
              "    <tr>\n",
              "      <th>4</th>\n",
              "      <td>6</td>\n",
              "      <td>4 0 0 0 0 0 0 0 0 0 0 0 3 15 23 28 48 50 58 84...</td>\n",
              "      <td>Training</td>\n",
              "    </tr>\n",
              "  </tbody>\n",
              "</table>\n",
              "</div>"
            ],
            "text/plain": [
              "   emotion                                             pixels     Usage\n",
              "0        0  70 80 82 72 58 58 60 63 54 58 60 48 89 115 121...  Training\n",
              "1        0  151 150 147 155 148 133 111 140 170 174 182 15...  Training\n",
              "2        2  231 212 156 164 174 138 161 173 182 200 106 38...  Training\n",
              "3        4  24 32 36 30 32 23 19 20 30 41 21 22 32 34 21 1...  Training\n",
              "4        6  4 0 0 0 0 0 0 0 0 0 0 0 3 15 23 28 48 50 58 84...  Training"
            ]
          },
          "metadata": {
            "tags": []
          },
          "execution_count": 8
        }
      ]
    },
    {
      "cell_type": "markdown",
      "metadata": {
        "id": "1yBMZ6lNBZ-R",
        "colab_type": "text"
      },
      "source": [
        "**Data Preprocessing**\n"
      ]
    },
    {
      "cell_type": "code",
      "metadata": {
        "id": "0L6mlzwPBsxP",
        "colab_type": "code",
        "colab": {}
      },
      "source": [
        "num_features = 64\n",
        "num_labels = 7\n",
        "batch_size = 64\n",
        "epochs = 100\n",
        "width, height = 48, 48"
      ],
      "execution_count": 9,
      "outputs": []
    },
    {
      "cell_type": "code",
      "metadata": {
        "id": "X8035UWEBe_L",
        "colab_type": "code",
        "colab": {}
      },
      "source": [
        "pixels = my_data['pixels'].tolist() # 1\n",
        "\n",
        "faces = []\n",
        "for pixel_sequence in pixels:\n",
        "    face = [int(pixel) for pixel in pixel_sequence.split(' ')] \n",
        "    face = np.asarray(face).reshape(width, height) \n",
        "    face = face / 255.0\n",
        "    face = cv2.resize(face.astype('float32'), (width, height))\n",
        "    faces.append(face.astype('float32'))\n",
        "faces = np.asarray(faces)\n",
        "faces = np.expand_dims(faces, -1) "
      ],
      "execution_count": 10,
      "outputs": []
    },
    {
      "cell_type": "code",
      "metadata": {
        "id": "jaIXEuwHCIPa",
        "colab_type": "code",
        "colab": {
          "base_uri": "https://localhost:8080/",
          "height": 419
        },
        "outputId": "2703c4ff-2456-465a-a9b5-c6e4ba094b71"
      },
      "source": [
        "emotions = pd.get_dummies(my_data['emotion'])\n",
        "emotions"
      ],
      "execution_count": 11,
      "outputs": [
        {
          "output_type": "execute_result",
          "data": {
            "text/html": [
              "<div>\n",
              "<style scoped>\n",
              "    .dataframe tbody tr th:only-of-type {\n",
              "        vertical-align: middle;\n",
              "    }\n",
              "\n",
              "    .dataframe tbody tr th {\n",
              "        vertical-align: top;\n",
              "    }\n",
              "\n",
              "    .dataframe thead th {\n",
              "        text-align: right;\n",
              "    }\n",
              "</style>\n",
              "<table border=\"1\" class=\"dataframe\">\n",
              "  <thead>\n",
              "    <tr style=\"text-align: right;\">\n",
              "      <th></th>\n",
              "      <th>0</th>\n",
              "      <th>1</th>\n",
              "      <th>2</th>\n",
              "      <th>3</th>\n",
              "      <th>4</th>\n",
              "      <th>5</th>\n",
              "      <th>6</th>\n",
              "    </tr>\n",
              "  </thead>\n",
              "  <tbody>\n",
              "    <tr>\n",
              "      <th>0</th>\n",
              "      <td>1</td>\n",
              "      <td>0</td>\n",
              "      <td>0</td>\n",
              "      <td>0</td>\n",
              "      <td>0</td>\n",
              "      <td>0</td>\n",
              "      <td>0</td>\n",
              "    </tr>\n",
              "    <tr>\n",
              "      <th>1</th>\n",
              "      <td>1</td>\n",
              "      <td>0</td>\n",
              "      <td>0</td>\n",
              "      <td>0</td>\n",
              "      <td>0</td>\n",
              "      <td>0</td>\n",
              "      <td>0</td>\n",
              "    </tr>\n",
              "    <tr>\n",
              "      <th>2</th>\n",
              "      <td>0</td>\n",
              "      <td>0</td>\n",
              "      <td>1</td>\n",
              "      <td>0</td>\n",
              "      <td>0</td>\n",
              "      <td>0</td>\n",
              "      <td>0</td>\n",
              "    </tr>\n",
              "    <tr>\n",
              "      <th>3</th>\n",
              "      <td>0</td>\n",
              "      <td>0</td>\n",
              "      <td>0</td>\n",
              "      <td>0</td>\n",
              "      <td>1</td>\n",
              "      <td>0</td>\n",
              "      <td>0</td>\n",
              "    </tr>\n",
              "    <tr>\n",
              "      <th>4</th>\n",
              "      <td>0</td>\n",
              "      <td>0</td>\n",
              "      <td>0</td>\n",
              "      <td>0</td>\n",
              "      <td>0</td>\n",
              "      <td>0</td>\n",
              "      <td>1</td>\n",
              "    </tr>\n",
              "    <tr>\n",
              "      <th>...</th>\n",
              "      <td>...</td>\n",
              "      <td>...</td>\n",
              "      <td>...</td>\n",
              "      <td>...</td>\n",
              "      <td>...</td>\n",
              "      <td>...</td>\n",
              "      <td>...</td>\n",
              "    </tr>\n",
              "    <tr>\n",
              "      <th>35882</th>\n",
              "      <td>0</td>\n",
              "      <td>0</td>\n",
              "      <td>0</td>\n",
              "      <td>0</td>\n",
              "      <td>0</td>\n",
              "      <td>0</td>\n",
              "      <td>1</td>\n",
              "    </tr>\n",
              "    <tr>\n",
              "      <th>35883</th>\n",
              "      <td>0</td>\n",
              "      <td>0</td>\n",
              "      <td>0</td>\n",
              "      <td>1</td>\n",
              "      <td>0</td>\n",
              "      <td>0</td>\n",
              "      <td>0</td>\n",
              "    </tr>\n",
              "    <tr>\n",
              "      <th>35884</th>\n",
              "      <td>1</td>\n",
              "      <td>0</td>\n",
              "      <td>0</td>\n",
              "      <td>0</td>\n",
              "      <td>0</td>\n",
              "      <td>0</td>\n",
              "      <td>0</td>\n",
              "    </tr>\n",
              "    <tr>\n",
              "      <th>35885</th>\n",
              "      <td>0</td>\n",
              "      <td>0</td>\n",
              "      <td>0</td>\n",
              "      <td>1</td>\n",
              "      <td>0</td>\n",
              "      <td>0</td>\n",
              "      <td>0</td>\n",
              "    </tr>\n",
              "    <tr>\n",
              "      <th>35886</th>\n",
              "      <td>0</td>\n",
              "      <td>0</td>\n",
              "      <td>1</td>\n",
              "      <td>0</td>\n",
              "      <td>0</td>\n",
              "      <td>0</td>\n",
              "      <td>0</td>\n",
              "    </tr>\n",
              "  </tbody>\n",
              "</table>\n",
              "<p>35887 rows × 7 columns</p>\n",
              "</div>"
            ],
            "text/plain": [
              "       0  1  2  3  4  5  6\n",
              "0      1  0  0  0  0  0  0\n",
              "1      1  0  0  0  0  0  0\n",
              "2      0  0  1  0  0  0  0\n",
              "3      0  0  0  0  1  0  0\n",
              "4      0  0  0  0  0  0  1\n",
              "...   .. .. .. .. .. .. ..\n",
              "35882  0  0  0  0  0  0  1\n",
              "35883  0  0  0  1  0  0  0\n",
              "35884  1  0  0  0  0  0  0\n",
              "35885  0  0  0  1  0  0  0\n",
              "35886  0  0  1  0  0  0  0\n",
              "\n",
              "[35887 rows x 7 columns]"
            ]
          },
          "metadata": {
            "tags": []
          },
          "execution_count": 11
        }
      ]
    },
    {
      "cell_type": "markdown",
      "metadata": {
        "id": "eDGshbI9F7Rz",
        "colab_type": "text"
      },
      "source": [
        "**Train/Test Split**"
      ]
    },
    {
      "cell_type": "code",
      "metadata": {
        "id": "CEqwOv1nFXfa",
        "colab_type": "code",
        "colab": {}
      },
      "source": [
        "X_train, X_test, y_train, y_test = train_test_split(faces, emotions, test_size=0.1, random_state=42)\n",
        "X_train, X_val, y_train, y_val = train_test_split(X_train, y_train, test_size=0.1, random_state=41)"
      ],
      "execution_count": 12,
      "outputs": []
    },
    {
      "cell_type": "markdown",
      "metadata": {
        "id": "aC0LU3z2F_gL",
        "colab_type": "text"
      },
      "source": [
        "**Building the Model**"
      ]
    },
    {
      "cell_type": "code",
      "metadata": {
        "id": "8wdZGJGvFakf",
        "colab_type": "code",
        "colab": {
          "base_uri": "https://localhost:8080/",
          "height": 1000
        },
        "outputId": "129bf40c-7fd8-4239-96f5-e2c41bea2d11"
      },
      "source": [
        "model = Sequential()\n",
        "\n",
        "model.add(Conv2D(num_features, kernel_size=(3, 3), activation='relu', input_shape=(width, height, 1), data_format='channels_last', kernel_regularizer=l2(0.01)))\n",
        "model.add(Conv2D(num_features, kernel_size=(3, 3), activation='relu', padding='same'))\n",
        "model.add(BatchNormalization())\n",
        "model.add(MaxPooling2D(pool_size=(2, 2), strides=(2, 2)))\n",
        "model.add(Dropout(0.5))\n",
        "\n",
        "model.add(Conv2D(2*num_features, kernel_size=(3, 3), activation='relu', padding='same'))\n",
        "model.add(BatchNormalization())\n",
        "model.add(Conv2D(2*num_features, kernel_size=(3, 3), activation='relu', padding='same'))\n",
        "model.add(BatchNormalization())\n",
        "model.add(MaxPooling2D(pool_size=(2, 2), strides=(2, 2)))\n",
        "model.add(Dropout(0.5))\n",
        "\n",
        "model.add(Conv2D(2*2*num_features, kernel_size=(3, 3), activation='relu', padding='same'))\n",
        "model.add(BatchNormalization())\n",
        "model.add(Conv2D(2*2*num_features, kernel_size=(3, 3), activation='relu', padding='same'))\n",
        "model.add(BatchNormalization())\n",
        "model.add(MaxPooling2D(pool_size=(2, 2), strides=(2, 2)))\n",
        "model.add(Dropout(0.5))\n",
        "\n",
        "model.add(Conv2D(2*2*2*num_features, kernel_size=(3, 3), activation='relu', padding='same'))\n",
        "model.add(BatchNormalization())\n",
        "model.add(Conv2D(2*2*2*num_features, kernel_size=(3, 3), activation='relu', padding='same'))\n",
        "model.add(BatchNormalization())\n",
        "model.add(MaxPooling2D(pool_size=(2, 2), strides=(2, 2)))\n",
        "model.add(Dropout(0.5))\n",
        "\n",
        "model.add(Flatten())\n",
        "\n",
        "model.add(Dense(2*2*2*num_features, activation='relu'))\n",
        "model.add(Dropout(0.4))\n",
        "model.add(Dense(2*2*num_features, activation='relu'))\n",
        "model.add(Dropout(0.4))\n",
        "model.add(Dense(2*num_features, activation='relu'))\n",
        "model.add(Dropout(0.5))\n",
        "\n",
        "model.add(Dense(num_labels, activation='softmax'))\n",
        "model.summary()"
      ],
      "execution_count": 13,
      "outputs": [
        {
          "output_type": "stream",
          "text": [
            "Model: \"sequential_1\"\n",
            "_________________________________________________________________\n",
            "Layer (type)                 Output Shape              Param #   \n",
            "=================================================================\n",
            "conv2d_1 (Conv2D)            (None, 46, 46, 64)        640       \n",
            "_________________________________________________________________\n",
            "conv2d_2 (Conv2D)            (None, 46, 46, 64)        36928     \n",
            "_________________________________________________________________\n",
            "batch_normalization_1 (Batch (None, 46, 46, 64)        256       \n",
            "_________________________________________________________________\n",
            "max_pooling2d_1 (MaxPooling2 (None, 23, 23, 64)        0         \n",
            "_________________________________________________________________\n",
            "dropout_1 (Dropout)          (None, 23, 23, 64)        0         \n",
            "_________________________________________________________________\n",
            "conv2d_3 (Conv2D)            (None, 23, 23, 128)       73856     \n",
            "_________________________________________________________________\n",
            "batch_normalization_2 (Batch (None, 23, 23, 128)       512       \n",
            "_________________________________________________________________\n",
            "conv2d_4 (Conv2D)            (None, 23, 23, 128)       147584    \n",
            "_________________________________________________________________\n",
            "batch_normalization_3 (Batch (None, 23, 23, 128)       512       \n",
            "_________________________________________________________________\n",
            "max_pooling2d_2 (MaxPooling2 (None, 11, 11, 128)       0         \n",
            "_________________________________________________________________\n",
            "dropout_2 (Dropout)          (None, 11, 11, 128)       0         \n",
            "_________________________________________________________________\n",
            "conv2d_5 (Conv2D)            (None, 11, 11, 256)       295168    \n",
            "_________________________________________________________________\n",
            "batch_normalization_4 (Batch (None, 11, 11, 256)       1024      \n",
            "_________________________________________________________________\n",
            "conv2d_6 (Conv2D)            (None, 11, 11, 256)       590080    \n",
            "_________________________________________________________________\n",
            "batch_normalization_5 (Batch (None, 11, 11, 256)       1024      \n",
            "_________________________________________________________________\n",
            "max_pooling2d_3 (MaxPooling2 (None, 5, 5, 256)         0         \n",
            "_________________________________________________________________\n",
            "dropout_3 (Dropout)          (None, 5, 5, 256)         0         \n",
            "_________________________________________________________________\n",
            "conv2d_7 (Conv2D)            (None, 5, 5, 512)         1180160   \n",
            "_________________________________________________________________\n",
            "batch_normalization_6 (Batch (None, 5, 5, 512)         2048      \n",
            "_________________________________________________________________\n",
            "conv2d_8 (Conv2D)            (None, 5, 5, 512)         2359808   \n",
            "_________________________________________________________________\n",
            "batch_normalization_7 (Batch (None, 5, 5, 512)         2048      \n",
            "_________________________________________________________________\n",
            "max_pooling2d_4 (MaxPooling2 (None, 2, 2, 512)         0         \n",
            "_________________________________________________________________\n",
            "dropout_4 (Dropout)          (None, 2, 2, 512)         0         \n",
            "_________________________________________________________________\n",
            "flatten_1 (Flatten)          (None, 2048)              0         \n",
            "_________________________________________________________________\n",
            "dense_1 (Dense)              (None, 512)               1049088   \n",
            "_________________________________________________________________\n",
            "dropout_5 (Dropout)          (None, 512)               0         \n",
            "_________________________________________________________________\n",
            "dense_2 (Dense)              (None, 256)               131328    \n",
            "_________________________________________________________________\n",
            "dropout_6 (Dropout)          (None, 256)               0         \n",
            "_________________________________________________________________\n",
            "dense_3 (Dense)              (None, 128)               32896     \n",
            "_________________________________________________________________\n",
            "dropout_7 (Dropout)          (None, 128)               0         \n",
            "_________________________________________________________________\n",
            "dense_4 (Dense)              (None, 7)                 903       \n",
            "=================================================================\n",
            "Total params: 5,905,863\n",
            "Trainable params: 5,902,151\n",
            "Non-trainable params: 3,712\n",
            "_________________________________________________________________\n"
          ],
          "name": "stdout"
        }
      ]
    },
    {
      "cell_type": "code",
      "metadata": {
        "id": "n1pvbTmMFdxj",
        "colab_type": "code",
        "colab": {}
      },
      "source": [
        "model.compile(loss=categorical_crossentropy,\n",
        "              optimizer=Adam(lr=0.001, beta_1=0.9, beta_2=0.999, epsilon=1e-7),\n",
        "              metrics=['accuracy'])"
      ],
      "execution_count": 14,
      "outputs": []
    },
    {
      "cell_type": "code",
      "metadata": {
        "id": "668YeleeFutl",
        "colab_type": "code",
        "colab": {}
      },
      "source": [
        "lr_reducer = ReduceLROnPlateau(monitor='val_loss', factor=0.9, patience=3, verbose=1)\n",
        "tensorboard = TensorBoard(log_dir='./logs')\n",
        "early_stopper = EarlyStopping(monitor='val_loss', min_delta=0, patience=8, verbose=1, mode='auto')\n",
        "checkpointer = ModelCheckpoint(MODELPATH, monitor='val_loss', verbose=1, save_best_only=True)"
      ],
      "execution_count": 15,
      "outputs": []
    },
    {
      "cell_type": "code",
      "metadata": {
        "id": "OWEmkVB2Niea",
        "colab_type": "code",
        "colab": {}
      },
      "source": [
        "def mask(self):\n",
        "        import face_recognition\n",
        "\n",
        "        face_image_np = face_recognition.load_image_file(self.face_path)#np.ndarray\n",
        "        face_locations = face_recognition.face_locations(face_image_np, \"large\")\n",
        "        face_landmarks = face_recognition.face_landmarks(face_image_np, face_locations)\n",
        "        self._face_img = Image.fromarray(face_image_np)\n",
        "        self._mask_img = Image.open(self.mask_path)\n",
        "\n",
        "        found_face = False\n",
        "        for face_landmark in face_landmarks:\n",
        "            # check whether facial features meet requirement\n",
        "            skip = False\n",
        "            for facial_feature in self.KEY_FACIAL_FEATURES:\n",
        "                if facial_feature not in face_landmark:\n",
        "                    skip = True\n",
        "                    break\n",
        "            if skip:\n",
        "                continue\n",
        "\n",
        "            # mask face\n",
        "            found_face = True\n",
        "            self._mask_face(face_landmark)\n",
        "\n",
        "        if found_face:\n",
        "            if self.show:\n",
        "                self._face_img.show()\n",
        "\n",
        "            # save\n",
        "            self._save()\n",
        "        else:\n",
        "            print('Found no face.')"
      ],
      "execution_count": null,
      "outputs": []
    },
    {
      "cell_type": "markdown",
      "metadata": {
        "id": "6uO0BtiaGM17",
        "colab_type": "text"
      },
      "source": [
        "**Training**"
      ]
    },
    {
      "cell_type": "code",
      "metadata": {
        "id": "QTrDtQ3IGPN9",
        "colab_type": "code",
        "colab": {
          "base_uri": "https://localhost:8080/",
          "height": 1000
        },
        "outputId": "d42e9045-4b5f-42b5-e46a-8dacbd3feb02"
      },
      "source": [
        "model.fit(np.array(X_train), np.array(y_train),\n",
        "          batch_size=batch_size,\n",
        "          epochs=epochs,\n",
        "          verbose=1,\n",
        "          validation_data=(np.array(X_test), np.array(y_test)),\n",
        "          shuffle=True,\n",
        "          callbacks=[lr_reducer, tensorboard, early_stopper, checkpointer])"
      ],
      "execution_count": 16,
      "outputs": [
        {
          "output_type": "stream",
          "text": [
            "Train on 29068 samples, validate on 3589 samples\n",
            "Epoch 1/100\n",
            "  256/29068 [..............................] - ETA: 18:48 - loss: 4.6040 - accuracy: 0.1719"
          ],
          "name": "stdout"
        },
        {
          "output_type": "stream",
          "text": [
            "/usr/local/lib/python3.6/dist-packages/keras/callbacks/callbacks.py:95: RuntimeWarning: Method (on_train_batch_end) is slow compared to the batch update (0.269476). Check your callbacks.\n",
            "  % (hook_name, delta_t_median), RuntimeWarning)\n"
          ],
          "name": "stderr"
        },
        {
          "output_type": "stream",
          "text": [
            "29068/29068 [==============================] - 43s 1ms/step - loss: 1.9871 - accuracy: 0.2120 - val_loss: 1.8390 - val_accuracy: 0.2455\n",
            "\n",
            "Epoch 00001: val_loss improved from inf to 1.83898, saving model to ./models/model.h5\n",
            "Epoch 2/100\n",
            "29068/29068 [==============================] - 33s 1ms/step - loss: 1.8349 - accuracy: 0.2463 - val_loss: 1.8175 - val_accuracy: 0.2455\n",
            "\n",
            "Epoch 00002: val_loss improved from 1.83898 to 1.81753, saving model to ./models/model.h5\n",
            "Epoch 3/100\n",
            "29068/29068 [==============================] - 33s 1ms/step - loss: 1.8180 - accuracy: 0.2476 - val_loss: 1.8309 - val_accuracy: 0.2455\n",
            "\n",
            "Epoch 00003: val_loss did not improve from 1.81753\n",
            "Epoch 4/100\n",
            "29068/29068 [==============================] - 33s 1ms/step - loss: 1.7810 - accuracy: 0.2672 - val_loss: 1.8142 - val_accuracy: 0.2533\n",
            "\n",
            "Epoch 00004: val_loss improved from 1.81753 to 1.81420, saving model to ./models/model.h5\n",
            "Epoch 5/100\n",
            "29068/29068 [==============================] - 33s 1ms/step - loss: 1.7065 - accuracy: 0.3107 - val_loss: 1.9140 - val_accuracy: 0.2622\n",
            "\n",
            "Epoch 00005: val_loss did not improve from 1.81420\n",
            "Epoch 6/100\n",
            "29068/29068 [==============================] - 33s 1ms/step - loss: 1.5952 - accuracy: 0.3612 - val_loss: 1.8261 - val_accuracy: 0.3104\n",
            "\n",
            "Epoch 00006: val_loss did not improve from 1.81420\n",
            "Epoch 7/100\n",
            "29068/29068 [==============================] - 33s 1ms/step - loss: 1.5192 - accuracy: 0.3974 - val_loss: 1.5650 - val_accuracy: 0.3709\n",
            "\n",
            "Epoch 00007: val_loss improved from 1.81420 to 1.56498, saving model to ./models/model.h5\n",
            "Epoch 8/100\n",
            "29068/29068 [==============================] - 33s 1ms/step - loss: 1.4683 - accuracy: 0.4224 - val_loss: 1.4019 - val_accuracy: 0.4558\n",
            "\n",
            "Epoch 00008: val_loss improved from 1.56498 to 1.40194, saving model to ./models/model.h5\n",
            "Epoch 9/100\n",
            "29068/29068 [==============================] - 33s 1ms/step - loss: 1.4136 - accuracy: 0.4542 - val_loss: 1.4398 - val_accuracy: 0.4235\n",
            "\n",
            "Epoch 00009: val_loss did not improve from 1.40194\n",
            "Epoch 10/100\n",
            "29068/29068 [==============================] - 33s 1ms/step - loss: 1.3806 - accuracy: 0.4720 - val_loss: 1.5812 - val_accuracy: 0.3773\n",
            "\n",
            "Epoch 00010: val_loss did not improve from 1.40194\n",
            "Epoch 11/100\n",
            "29068/29068 [==============================] - 33s 1ms/step - loss: 1.3456 - accuracy: 0.4888 - val_loss: 1.2391 - val_accuracy: 0.5344\n",
            "\n",
            "Epoch 00011: val_loss improved from 1.40194 to 1.23913, saving model to ./models/model.h5\n",
            "Epoch 12/100\n",
            "29068/29068 [==============================] - 33s 1ms/step - loss: 1.3143 - accuracy: 0.5077 - val_loss: 1.2599 - val_accuracy: 0.5230\n",
            "\n",
            "Epoch 00012: val_loss did not improve from 1.23913\n",
            "Epoch 13/100\n",
            "29068/29068 [==============================] - 33s 1ms/step - loss: 1.2966 - accuracy: 0.5104 - val_loss: 1.3089 - val_accuracy: 0.4887\n",
            "\n",
            "Epoch 00013: val_loss did not improve from 1.23913\n",
            "Epoch 14/100\n",
            "29068/29068 [==============================] - 33s 1ms/step - loss: 1.2589 - accuracy: 0.5287 - val_loss: 1.2226 - val_accuracy: 0.5419\n",
            "\n",
            "Epoch 00014: val_loss improved from 1.23913 to 1.22260, saving model to ./models/model.h5\n",
            "Epoch 15/100\n",
            "29068/29068 [==============================] - 33s 1ms/step - loss: 1.2315 - accuracy: 0.5420 - val_loss: 1.2383 - val_accuracy: 0.5339\n",
            "\n",
            "Epoch 00015: val_loss did not improve from 1.22260\n",
            "Epoch 16/100\n",
            "29068/29068 [==============================] - 33s 1ms/step - loss: 1.2026 - accuracy: 0.5504 - val_loss: 1.2348 - val_accuracy: 0.5244\n",
            "\n",
            "Epoch 00016: val_loss did not improve from 1.22260\n",
            "Epoch 17/100\n",
            "29068/29068 [==============================] - 33s 1ms/step - loss: 1.1875 - accuracy: 0.5600 - val_loss: 1.1933 - val_accuracy: 0.5503\n",
            "\n",
            "Epoch 00017: val_loss improved from 1.22260 to 1.19333, saving model to ./models/model.h5\n",
            "Epoch 18/100\n",
            "29068/29068 [==============================] - 33s 1ms/step - loss: 1.1640 - accuracy: 0.5753 - val_loss: 1.1517 - val_accuracy: 0.5609\n",
            "\n",
            "Epoch 00018: val_loss improved from 1.19333 to 1.15171, saving model to ./models/model.h5\n",
            "Epoch 19/100\n",
            "29068/29068 [==============================] - 33s 1ms/step - loss: 1.1423 - accuracy: 0.5818 - val_loss: 1.2024 - val_accuracy: 0.5458\n",
            "\n",
            "Epoch 00019: val_loss did not improve from 1.15171\n",
            "Epoch 20/100\n",
            "29068/29068 [==============================] - 33s 1ms/step - loss: 1.1180 - accuracy: 0.5906 - val_loss: 1.1442 - val_accuracy: 0.5784\n",
            "\n",
            "Epoch 00020: val_loss improved from 1.15171 to 1.14422, saving model to ./models/model.h5\n",
            "Epoch 21/100\n",
            "29068/29068 [==============================] - 34s 1ms/step - loss: 1.1031 - accuracy: 0.5962 - val_loss: 1.1249 - val_accuracy: 0.5851\n",
            "\n",
            "Epoch 00021: val_loss improved from 1.14422 to 1.12486, saving model to ./models/model.h5\n",
            "Epoch 22/100\n",
            "29068/29068 [==============================] - 33s 1ms/step - loss: 1.0738 - accuracy: 0.6093 - val_loss: 1.1470 - val_accuracy: 0.5765\n",
            "\n",
            "Epoch 00022: val_loss did not improve from 1.12486\n",
            "Epoch 23/100\n",
            "29068/29068 [==============================] - 33s 1ms/step - loss: 1.0533 - accuracy: 0.6141 - val_loss: 1.0967 - val_accuracy: 0.5935\n",
            "\n",
            "Epoch 00023: val_loss improved from 1.12486 to 1.09667, saving model to ./models/model.h5\n",
            "Epoch 24/100\n",
            "29068/29068 [==============================] - 34s 1ms/step - loss: 1.0428 - accuracy: 0.6203 - val_loss: 1.1041 - val_accuracy: 0.5943\n",
            "\n",
            "Epoch 00024: val_loss did not improve from 1.09667\n",
            "Epoch 25/100\n",
            "29068/29068 [==============================] - 34s 1ms/step - loss: 1.0237 - accuracy: 0.6291 - val_loss: 1.1213 - val_accuracy: 0.5851\n",
            "\n",
            "Epoch 00025: val_loss did not improve from 1.09667\n",
            "Epoch 26/100\n",
            "29068/29068 [==============================] - 33s 1ms/step - loss: 0.9990 - accuracy: 0.6356 - val_loss: 1.0799 - val_accuracy: 0.5985\n",
            "\n",
            "Epoch 00026: val_loss improved from 1.09667 to 1.07988, saving model to ./models/model.h5\n",
            "Epoch 27/100\n",
            "29068/29068 [==============================] - 33s 1ms/step - loss: 0.9797 - accuracy: 0.6451 - val_loss: 1.1861 - val_accuracy: 0.5678\n",
            "\n",
            "Epoch 00027: val_loss did not improve from 1.07988\n",
            "Epoch 28/100\n",
            "29068/29068 [==============================] - 33s 1ms/step - loss: 0.9692 - accuracy: 0.6522 - val_loss: 1.0794 - val_accuracy: 0.6024\n",
            "\n",
            "Epoch 00028: val_loss improved from 1.07988 to 1.07936, saving model to ./models/model.h5\n",
            "Epoch 29/100\n",
            "29068/29068 [==============================] - 34s 1ms/step - loss: 0.9542 - accuracy: 0.6546 - val_loss: 1.1332 - val_accuracy: 0.5957\n",
            "\n",
            "Epoch 00029: val_loss did not improve from 1.07936\n",
            "Epoch 30/100\n",
            "29068/29068 [==============================] - 33s 1ms/step - loss: 0.9327 - accuracy: 0.6629 - val_loss: 1.1276 - val_accuracy: 0.5737\n",
            "\n",
            "Epoch 00030: val_loss did not improve from 1.07936\n",
            "Epoch 31/100\n",
            "29068/29068 [==============================] - 33s 1ms/step - loss: 0.9147 - accuracy: 0.6684 - val_loss: 1.0808 - val_accuracy: 0.6060\n",
            "\n",
            "Epoch 00031: ReduceLROnPlateau reducing learning rate to 0.0009000000427477062.\n",
            "\n",
            "Epoch 00031: val_loss did not improve from 1.07936\n",
            "Epoch 32/100\n",
            "29068/29068 [==============================] - 33s 1ms/step - loss: 0.8792 - accuracy: 0.6841 - val_loss: 1.0525 - val_accuracy: 0.6305\n",
            "\n",
            "Epoch 00032: val_loss improved from 1.07936 to 1.05248, saving model to ./models/model.h5\n",
            "Epoch 33/100\n",
            "29068/29068 [==============================] - 33s 1ms/step - loss: 0.8640 - accuracy: 0.6890 - val_loss: 1.0766 - val_accuracy: 0.6172\n",
            "\n",
            "Epoch 00033: val_loss did not improve from 1.05248\n",
            "Epoch 34/100\n",
            "29068/29068 [==============================] - 33s 1ms/step - loss: 0.8502 - accuracy: 0.6962 - val_loss: 1.1016 - val_accuracy: 0.6158\n",
            "\n",
            "Epoch 00034: val_loss did not improve from 1.05248\n",
            "Epoch 35/100\n",
            "29068/29068 [==============================] - 33s 1ms/step - loss: 0.8353 - accuracy: 0.6999 - val_loss: 1.0693 - val_accuracy: 0.6233\n",
            "\n",
            "Epoch 00035: ReduceLROnPlateau reducing learning rate to 0.0008100000384729356.\n",
            "\n",
            "Epoch 00035: val_loss did not improve from 1.05248\n",
            "Epoch 36/100\n",
            "29068/29068 [==============================] - 33s 1ms/step - loss: 0.8047 - accuracy: 0.7084 - val_loss: 1.1730 - val_accuracy: 0.6043\n",
            "\n",
            "Epoch 00036: val_loss did not improve from 1.05248\n",
            "Epoch 37/100\n",
            "29068/29068 [==============================] - 33s 1ms/step - loss: 0.7852 - accuracy: 0.7168 - val_loss: 1.0529 - val_accuracy: 0.6328\n",
            "\n",
            "Epoch 00037: val_loss did not improve from 1.05248\n",
            "Epoch 38/100\n",
            "29068/29068 [==============================] - 33s 1ms/step - loss: 0.7648 - accuracy: 0.7275 - val_loss: 1.1074 - val_accuracy: 0.6225\n",
            "\n",
            "Epoch 00038: ReduceLROnPlateau reducing learning rate to 0.0007290000503417104.\n",
            "\n",
            "Epoch 00038: val_loss did not improve from 1.05248\n",
            "Epoch 39/100\n",
            "29068/29068 [==============================] - 33s 1ms/step - loss: 0.7432 - accuracy: 0.7361 - val_loss: 1.0679 - val_accuracy: 0.6342\n",
            "\n",
            "Epoch 00039: val_loss did not improve from 1.05248\n",
            "Epoch 40/100\n",
            "29068/29068 [==============================] - 33s 1ms/step - loss: 0.7236 - accuracy: 0.7428 - val_loss: 1.1189 - val_accuracy: 0.6314\n",
            "\n",
            "Epoch 00040: val_loss did not improve from 1.05248\n",
            "Epoch 00040: early stopping\n"
          ],
          "name": "stdout"
        },
        {
          "output_type": "execute_result",
          "data": {
            "text/plain": [
              "<keras.callbacks.callbacks.History at 0x7f493fff65f8>"
            ]
          },
          "metadata": {
            "tags": []
          },
          "execution_count": 16
        }
      ]
    },
    {
      "cell_type": "code",
      "metadata": {
        "id": "MN59V_h7doHF",
        "colab_type": "code",
        "colab": {
          "base_uri": "https://localhost:8080/",
          "height": 68
        },
        "outputId": "bf64b127-30cf-421f-f516-1dd2a6ed141e"
      },
      "source": [
        "scores = model.evaluate(np.array(X_test), np.array(y_test), batch_size=batch_size)\n",
        "print(\"Loss: \" + str(scores[0]))\n",
        "print(\"Accuracy: \" + str(scores[1]))"
      ],
      "execution_count": 17,
      "outputs": [
        {
          "output_type": "stream",
          "text": [
            "3589/3589 [==============================] - 1s 309us/step\n",
            "Loss: 1.1188975985284701\n",
            "Accuracy: 0.6313736438751221\n"
          ],
          "name": "stdout"
        }
      ]
    },
    {
      "cell_type": "markdown",
      "metadata": {
        "id": "fjATEFOLPjCD",
        "colab_type": "text"
      },
      "source": [
        "**Predicting with Pre-trained Model**"
      ]
    },
    {
      "cell_type": "code",
      "metadata": {
        "id": "hotkN-IsPeUT",
        "colab_type": "code",
        "colab": {}
      },
      "source": [
        "from __future__ import division\n",
        "from keras.models import Sequential\n",
        "from keras.layers import Dense\n",
        "from keras.models import model_from_json\n",
        "import numpy\n",
        "import os\n",
        "import numpy as np\n",
        "\n",
        "json_file = open('fer.json', 'r')\n",
        "loaded_model_json = json_file.read()\n",
        "json_file.close()\n",
        "loaded_model = model_from_json(loaded_model_json)\n",
        "loaded_model.load_weights(\"fer.h5\")\n",
        "print(\"Loaded model from disk\")"
      ],
      "execution_count": null,
      "outputs": []
    },
    {
      "cell_type": "code",
      "metadata": {
        "id": "Mm9GgOLCmKlB",
        "colab_type": "code",
        "colab": {}
      },
      "source": [
        "truey=[]\n",
        "predy=[]\n",
        "x = np.load('./Xtest.npy')\n",
        "y = np.load('./ytest.npy')\n",
        "\n",
        "yhat= loaded_model.predict(x)\n",
        "yh = yhat.tolist()\n",
        "yt = y.tolist()\n",
        "count = 0\n",
        "\n",
        "for i in range(len(y)):\n",
        "    yy = max(yh[i])\n",
        "    yyt = max(yt[i])\n",
        "    predy.append(yh[i].index(yy))\n",
        "    truey.append(yt[i].index(yyt))\n",
        "    if(yh[i].index(yy)== yt[i].index(yyt)):\n",
        "        count+=1\n",
        "\n",
        "acc = (count/len(y))*100\n",
        "\n",
        "np.save('truey', truey)\n",
        "np.save('predy', predy)\n",
        "print(\"Predicted and true label values saved\")\n",
        "print(\"Accuracy on test set :\"+str(acc)+\"%\")"
      ],
      "execution_count": null,
      "outputs": []
    }
  ]
}